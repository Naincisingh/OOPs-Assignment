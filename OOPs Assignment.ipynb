{
 "cells": [
  {
   "cell_type": "code",
   "execution_count": 1,
   "id": "7ac771b2-c8f4-4881-b470-54946e53f91b",
   "metadata": {},
   "outputs": [
    {
     "data": {
      "text/plain": [
       "\"different modes of opening a file\\n1.'r'- open a file for reading\\n2.'w'- open a file for writing and truncating the file exsist\\n3.'a'-create and open  a file and appending to the end of the exsisting file\\n4.'x'-create and open a file\""
      ]
     },
     "execution_count": 1,
     "metadata": {},
     "output_type": "execute_result"
    }
   ],
   "source": [
    "\"\"\"QTS.1\"\"\"\n",
    "\"\"\"open() function is used to open afile in python, \"\"\"\n",
    "\"\"\"different modes of opening a file\n",
    "1.'r'- open a file for reading\n",
    "2.'w'- open a file for writing and truncating the file exsist\n",
    "3.'a'-create and open  a file and appending to the end of the exsisting file\n",
    "4.'x'-create and open a file\"\"\""
   ]
  },
  {
   "cell_type": "code",
   "execution_count": 2,
   "id": "5607f836-1c94-41b1-8a77-a3e307684f5b",
   "metadata": {},
   "outputs": [
    {
     "data": {
      "text/plain": [
       "'close () function is used to close the open files, \\n   it is important to use because files are limited resources\\n   managed by the operating system, making sure filesare closed after use\\n   willl protect against hard to debug issue like running out of file handles or\\n   corrupting file data'"
      ]
     },
     "execution_count": 2,
     "metadata": {},
     "output_type": "execute_result"
    }
   ],
   "source": [
    "\"\"\"QTS.2\"\"\"\n",
    "\"\"\"close () function is used to close the open files, \n",
    "   it is important to use because files are limited resources\n",
    "   managed by the operating system, making sure filesare closed after use\n",
    "   willl protect against hard to debug issue like running out of file handles or\n",
    "   corrupting file data\"\"\""
   ]
  },
  {
   "cell_type": "code",
   "execution_count": 3,
   "id": "851293f7-9f31-4908-91ca-68330f9ec611",
   "metadata": {},
   "outputs": [],
   "source": [
    "\"\"\"QTS.3\"\"\"\n",
    "f=open(\"test1.txt\",'w')\n",
    "f.write(\"I want to become a data scientist\")\n",
    "f.close()"
   ]
  },
  {
   "cell_type": "code",
   "execution_count": 1,
   "id": "d78b653d-e4af-4738-8436-d4d034b228db",
   "metadata": {},
   "outputs": [
    {
     "data": {
      "text/plain": [
       "'I want to become a data scientist'"
      ]
     },
     "execution_count": 1,
     "metadata": {},
     "output_type": "execute_result"
    }
   ],
   "source": [
    "f=open(\"test1.txt\",'r')\n",
    "f.read()"
   ]
  },
  {
   "cell_type": "code",
   "execution_count": 2,
   "id": "29f86372-6cc9-43eb-bd1a-b64dd5249cd4",
   "metadata": {},
   "outputs": [],
   "source": [
    "\"\"\"QTS. 4\"\"\"\n",
    "f=open(\"test1\",'w')\n",
    "f.write(\"ChatGPT is an artificial intelligence chatbot, developed - and launched on November 30, 2022 - by OpenAI. It is notable for enabling users to refine and steer a conversation towards a desired length, format, style, level of detail, and language used. Wikipedia\")\n",
    "f.close()"
   ]
  },
  {
   "cell_type": "code",
   "execution_count": 3,
   "id": "62e4b6b3-7612-4f21-b374-eb8849c08214",
   "metadata": {},
   "outputs": [
    {
     "data": {
      "text/plain": [
       "'ChatGPT is an artificial intelligence chatbot, developed - and launched on November 30, 2022 - by OpenAI. It is notable for enabling users to refine and steer a conversation towards a desired length, format, style, level of detail, and language used. Wikipedia'"
      ]
     },
     "execution_count": 3,
     "metadata": {},
     "output_type": "execute_result"
    }
   ],
   "source": [
    "f=open(\"test1\",'r')\n",
    "f.read()"
   ]
  },
  {
   "cell_type": "code",
   "execution_count": 6,
   "id": "6c610a6f-55b4-498d-a403-7917dcd1dbc8",
   "metadata": {},
   "outputs": [
    {
     "name": "stdout",
     "output_type": "stream",
     "text": [
      "ChatGPT is an artificial intelligence chatbot, developed - and launched on November 30, 2022 - by OpenAI. It is notable for enabling users to refine and steer a conversation towards a desired length, format, style, level of detail, and language used. Wikipedia\n"
     ]
    }
   ],
   "source": [
    "with open(\"test1\",'r') as f:\n",
    "    f.seek(0)\n",
    "    print(f.readline())"
   ]
  },
  {
   "cell_type": "code",
   "execution_count": 7,
   "id": "dfb16707-f945-4249-8ebf-38246aa8455e",
   "metadata": {},
   "outputs": [
    {
     "name": "stdout",
     "output_type": "stream",
     "text": [
      "['ChatGPT is an artificial intelligence chatbot, developed - and launched on November 30, 2022 - by OpenAI. It is notable for enabling users to refine and steer a conversation towards a desired length, format, style, level of detail, and language used. Wikipedia']\n"
     ]
    }
   ],
   "source": [
    "with open(\"test1\",'r') as f:\n",
    "    print(f.readlines())"
   ]
  },
  {
   "cell_type": "code",
   "execution_count": 8,
   "id": "6a44d253-6617-46ac-a0c3-6d52d603dc1a",
   "metadata": {},
   "outputs": [
    {
     "data": {
      "text/plain": [
       "'with statement is use to open a file but unlike open() function here no need of\\n   close() function is required.\\n   advantages of using with statement with open() function.\\n   1.it gives guaranteed of closing the open files.\\n   2.it also gives guaranteed to close the file no matter how the nestedblock exsist\\n   ,if the exception occurs before the end of the block,it will close the file before the exception\\n   is caught by an outer exception handler'"
      ]
     },
     "execution_count": 8,
     "metadata": {},
     "output_type": "execute_result"
    }
   ],
   "source": [
    "\"\"\"QTS.5\"\"\"\n",
    "\"\"\"with statement is use to open a file but unlike open() function here no need of\n",
    "   close() function is required.\n",
    "   advantages of using with statement with open() function.\n",
    "   1.it gives guaranteed of closing the open files.\n",
    "   2.it also gives guaranteed to close the file no matter how the nestedblock exsist\n",
    "   ,if the exception occurs before the end of the block,it will close the file before the exception\n",
    "   is caught by an outer exception handler\"\"\""
   ]
  },
  {
   "cell_type": "code",
   "execution_count": 1,
   "id": "1291c8cf-0c60-40f5-974a-5ce05c9bcd62",
   "metadata": {},
   "outputs": [],
   "source": [
    "\"\"\"QTS.6\"\"\"\n",
    "with open(\"test2.txt\",'w') as f:\n",
    "    f.write(\"ChatGPT is an artificial intelligence chatbot, developed - and launched on November 30, 2022 - by OpenAI. It is notable for enabling users to refine and steer a conversation towards a desired length, format, style, level of detail, and language used. Wikipedia\")\n"
   ]
  },
  {
   "cell_type": "code",
   "execution_count": 2,
   "id": "369ed83b-53fd-4e9e-8a9f-77559dd998a7",
   "metadata": {},
   "outputs": [],
   "source": [
    "with open(\"test3.txt\",'w') as f:\n",
    "    f.writelines(\"ChatGPT is an artificial intelligence chatbot, developed - and launched on November 30, 2022 - by OpenAI. It is notable for enabling users to refine and steer a conversation towards a desired length, format, style, level of detail, and language used. Wikipedia\")"
   ]
  },
  {
   "cell_type": "code",
   "execution_count": null,
   "id": "b0a079d6-6281-4555-be16-bf5a75140466",
   "metadata": {},
   "outputs": [],
   "source": []
  }
 ],
 "metadata": {
  "kernelspec": {
   "display_name": "Python 3 (ipykernel)",
   "language": "python",
   "name": "python3"
  },
  "language_info": {
   "codemirror_mode": {
    "name": "ipython",
    "version": 3
   },
   "file_extension": ".py",
   "mimetype": "text/x-python",
   "name": "python",
   "nbconvert_exporter": "python",
   "pygments_lexer": "ipython3",
   "version": "3.10.8"
  }
 },
 "nbformat": 4,
 "nbformat_minor": 5
}
